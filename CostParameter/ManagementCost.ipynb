{
 "cells": [
  {
   "cell_type": "markdown",
   "metadata": {},
   "source": [
    "## Calculating city management cost\n",
    "\n",
    "### Reference\n",
    " - A. Sato and A. Morimoto, ‘The Effect of Shrinking Degree on Reduction of Administrative Management and Maintenance Cost in Compact City’, Journal of the City Planning Institute of Japan, vol. 44.3, pp. 535–540, 2009, doi: 10.11361/journalcpij.44.3.535.\n",
    " - 総合政策：建設工事費デフレーター - 国土交通省. Accessed: May 21, 2024. [Online]. Available: https://www.mlit.go.jp/sogoseisaku/jouhouka/sosei_jouhouka_tk4_000112.html\n",
    "\n",
    "### Procedure\n",
    "1. Calcurating per km intensity of cost (water supply, sewage, road and bridges) based on Fig. 3, pp. 538 (Sato & Morimoto, 2009)  -> Utsunomiya data\n",
    "\n",
    "    | Infrastructure | Estimated intensity [1000 JPY/km] | \n",
    "    | :---- | ---: | \n",
    "    | water supply| 26.46 | \n",
    "    | sewage | 350.18|\n",
    "    | road and bridge | 863.30 |  \n",
    "  \n",
    "\n",
    "2. Adjusting the cost using the Construction Work Deflator  \n",
    "\n",
    "    | 土木総合 | deflator (2015年基準) | \n",
    "    | :---- | ---: | \n",
    "    | 2009| 93.1 | \n",
    "    | 2022| 119.2|  "
   ]
  },
  {
   "cell_type": "code",
   "execution_count": 3,
   "metadata": {},
   "outputs": [
    {
     "name": "stdout",
     "output_type": "stream",
     "text": [
      "1587.5493877551023\n"
     ]
    }
   ],
   "source": [
    "# 1. Calcurating per km intensity of cost\n",
    "\n",
    "# [1000 JPY/km][JPY/m]\n",
    "Us_c = 26.46 # Water supply\n",
    "Ds_c = 350.180 # sewage\n",
    "RB_c = 863.300 # road and bridge\n",
    "\n",
    "Total_z = (Us_c + Ds_c + RB_c)\n",
    "\n",
    "# 2. Adjusting the cost using the Construction Work Deflator \n",
    "# unit [1000JPY / km^2]\n",
    "Total_z0 = Total_z * (119.2/93.1) \n",
    "print(Total_z0)\n"
   ]
  },
  {
   "cell_type": "markdown",
   "metadata": {},
   "source": [
    "## Toyohashi construction cost"
   ]
  },
  {
   "cell_type": "markdown",
   "metadata": {},
   "source": [
    "## Reference\n",
    "A technical document for software used in public facilities renewal cost estimation, https://management.furusato-ppp.jp/wp-content/uploads/2013/05/%E5%85%AC%E5%85%B1%E6%96%BD%E8%A8%AD%E6%9B%B4%E6%96%B0%E8%B2%BB%E7%94%A8%E8%A9%A6%E7%AE%97%E3%82%BD%E3%83%95%E3%83%88%E4%BB%95%E6%A7%98%E6%9B%B8Ver.2.10%EF%BC%88%E5%B9%B3%E6%88%90%EF%BC%92%EF%BC%98%E5%B9%B4%E7%89%88%EF%BC%89.pdf, 2024-08-01 accessed.\n",
    "\n",
    "1. Update cost\n",
    "    | Infrastructure | Estimated intensity [1000 JPY/m^2] | \n",
    "    | :---- | ---: | \n",
    "    | water supply| 100 | \n",
    "    | sewage | 124|\n",
    "    | road(including foot path and cycle lane) | 7.400 | \n",
    "    | bridge | 448 | "
   ]
  },
  {
   "cell_type": "code",
   "execution_count": 13,
   "metadata": {},
   "outputs": [
    {
     "name": "stdout",
     "output_type": "stream",
     "text": [
      "235405.45454545456\n"
     ]
    }
   ],
   "source": [
    "# unit [1000 JPY / m^2]\n",
    "ExCost = 100 + 124 + 7.4*(109/110)+448*(1/110)\n",
    "\n",
    "# m^2 \n",
    "ExCost_0 = ExCost\n",
    "\n",
    "#1000 JPY -> JPY\n",
    "ExCost_1 = ExCost_0 * 1000\n",
    "\n",
    "print(ExCost_1)"
   ]
  }
 ],
 "metadata": {
  "kernelspec": {
   "display_name": "base",
   "language": "python",
   "name": "python3"
  },
  "language_info": {
   "codemirror_mode": {
    "name": "ipython",
    "version": 3
   },
   "file_extension": ".py",
   "mimetype": "text/x-python",
   "name": "python",
   "nbconvert_exporter": "python",
   "pygments_lexer": "ipython3",
   "version": "3.11.5"
  }
 },
 "nbformat": 4,
 "nbformat_minor": 2
}
